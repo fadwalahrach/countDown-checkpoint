{
 "cells": [
  {
   "cell_type": "markdown",
   "id": "45ef75ef",
   "metadata": {},
   "source": [
    "### In this project, you will be able to create a countdown timer using Python. The code will take input from the user regarding the length of the countdown in seconds. After that, a countdown will begin on the screen of the format ‘minutes: seconds. We will use the time module here."
   ]
  },
  {
   "cell_type": "code",
   "execution_count": 1,
   "id": "158fba69",
   "metadata": {},
   "outputs": [
    {
     "name": "stdout",
     "output_type": "stream",
     "text": [
      "Plz give the length of the countdown in seconds: 100\n",
      "Fire in the hole\n"
     ]
    }
   ],
   "source": [
    "import time\n",
    "def countdown(t):\n",
    "    while(t>0):\n",
    "        (minutes,secondes)= divmod(t,60)\n",
    "        print(\"{:02d}:{:02d}\".format(minutes,secondes), end = \"\\r\")\n",
    "        time.sleep(1)\n",
    "        t-=1\n",
    "    print(\"Fire in the hole\")\n",
    "    \n",
    "t= int(input(\"Plz give the length of the countdown in seconds: \"))\n",
    "countdown(t)"
   ]
  },
  {
   "cell_type": "code",
   "execution_count": null,
   "id": "20676dbc",
   "metadata": {},
   "outputs": [],
   "source": []
  }
 ],
 "metadata": {
  "kernelspec": {
   "display_name": "Python 3 (ipykernel)",
   "language": "python",
   "name": "python3"
  },
  "language_info": {
   "codemirror_mode": {
    "name": "ipython",
    "version": 3
   },
   "file_extension": ".py",
   "mimetype": "text/x-python",
   "name": "python",
   "nbconvert_exporter": "python",
   "pygments_lexer": "ipython3",
   "version": "3.9.7"
  }
 },
 "nbformat": 4,
 "nbformat_minor": 5
}
